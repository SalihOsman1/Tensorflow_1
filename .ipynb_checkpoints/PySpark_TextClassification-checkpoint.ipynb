{
 "cells": [
  {
   "cell_type": "code",
   "execution_count": 1,
   "id": "2df97c99",
   "metadata": {},
   "outputs": [],
   "source": [
    "import numpy as np\n",
    "import pandas as pd\n",
    "import os, sys, datetime\n",
    "######### Pysaprk\n",
    "from pyspark import SparkContext\n",
    "from pyspark.sql import SparkSession\n",
    "#!pip install neattext\n",
    "import neattext.functions as nfx\n",
    "import seaborn as sns\n",
    "from sklearn.linear_model import LogisticRegression\n",
    "from sklearn.naive_bayes import MultinomialNB\n"
   ]
  },
  {
   "cell_type": "code",
   "execution_count": 2,
   "id": "17a024c1",
   "metadata": {},
   "outputs": [
    {
     "name": "stderr",
     "output_type": "stream",
     "text": [
      "23/08/16 17:31:29 WARN Utils: Your hostname, SailhOsman resolves to a loopback address: 127.0.1.1; using 172.22.57.122 instead (on interface eth0)\n",
      "23/08/16 17:31:29 WARN Utils: Set SPARK_LOCAL_IP if you need to bind to another address\n",
      "Setting default log level to \"WARN\".\n",
      "To adjust logging level use sc.setLogLevel(newLevel). For SparkR, use setLogLevel(newLevel).\n",
      "23/08/16 17:31:31 WARN NativeCodeLoader: Unable to load native-hadoop library for your platform... using builtin-java classes where applicable\n",
      "23/08/16 17:31:32 WARN Utils: Service 'SparkUI' could not bind on port 4040. Attempting port 4041.\n",
      "23/08/16 17:31:32 WARN Utils: Service 'SparkUI' could not bind on port 4041. Attempting port 4042.\n",
      "23/08/16 17:31:32 WARN Utils: Service 'SparkUI' could not bind on port 4042. Attempting port 4043.\n",
      "23/08/16 17:31:32 WARN Utils: Service 'SparkUI' could not bind on port 4043. Attempting port 4044.\n"
     ]
    },
    {
     "name": "stdout",
     "output_type": "stream",
     "text": [
      "<SparkContext master=local[2] appName=pyspark-shell>\n"
     ]
    }
   ],
   "source": [
    "sc=SparkContext(master='local[2]')\n",
    "print(sc)"
   ]
  },
  {
   "cell_type": "code",
   "execution_count": 3,
   "id": "8f7b20fb",
   "metadata": {},
   "outputs": [
    {
     "data": {
      "text/html": [
       "\n",
       "        <div>\n",
       "            <p><b>SparkContext</b></p>\n",
       "\n",
       "            <p><a href=\"http://172.22.57.122:4044\">Spark UI</a></p>\n",
       "\n",
       "            <dl>\n",
       "              <dt>Version</dt>\n",
       "                <dd><code>v3.4.1</code></dd>\n",
       "              <dt>Master</dt>\n",
       "                <dd><code>local[2]</code></dd>\n",
       "              <dt>AppName</dt>\n",
       "                <dd><code>pyspark-shell</code></dd>\n",
       "            </dl>\n",
       "        </div>\n",
       "        "
      ],
      "text/plain": [
       "<SparkContext master=local[2] appName=pyspark-shell>"
      ]
     },
     "execution_count": 3,
     "metadata": {},
     "output_type": "execute_result"
    }
   ],
   "source": [
    "sc"
   ]
  },
  {
   "cell_type": "code",
   "execution_count": 4,
   "id": "52c7b84e",
   "metadata": {},
   "outputs": [
    {
     "name": "stdout",
     "output_type": "stream",
     "text": [
      "<pyspark.sql.session.SparkSession object at 0x7fe15f1fbbb0>\n"
     ]
    }
   ],
   "source": [
    "spark=SparkSession.builder.appName(\"Text Mining\").getOrCreate()\n",
    "print(spark)"
   ]
  },
  {
   "cell_type": "code",
   "execution_count": 5,
   "id": "26e3d76c",
   "metadata": {},
   "outputs": [
    {
     "name": "stdout",
     "output_type": "stream",
     "text": [
      "   course_id                                       course_title  \\\n",
      "0    1070968                 Ultimate Investment Banking Course   \n",
      "1    1113822  Complete GST Course & Certification - Grow You...   \n",
      "2    1006314  Financial Modeling for Business Analysts and C...   \n",
      "3    1210588  Beginner to Pro - Financial Analysis in Excel ...   \n",
      "4    1011058       How To Maximize Your Profits Trading Options   \n",
      "\n",
      "                                                 url  is_paid  price  \\\n",
      "0  https://www.udemy.com/ultimate-investment-bank...     True    200   \n",
      "1      https://www.udemy.com/goods-and-services-tax/     True     75   \n",
      "2  https://www.udemy.com/financial-modeling-for-b...     True     45   \n",
      "3  https://www.udemy.com/complete-excel-finance-c...     True     95   \n",
      "4  https://www.udemy.com/how-to-maximize-your-pro...     True    200   \n",
      "\n",
      "   num_subscribers  num_reviews  num_lectures               level  \\\n",
      "0             2147           23            51          All Levels   \n",
      "1             2792          923           274          All Levels   \n",
      "2             2174           74            51  Intermediate Level   \n",
      "3             2451           11            36          All Levels   \n",
      "4             1276           45            26  Intermediate Level   \n",
      "\n",
      "   content_duration   published_timestamp           subject  \n",
      "0               1.5  2017-01-18T20:58:58Z  Business Finance  \n",
      "1              39.0  2017-03-09T16:34:20Z  Business Finance  \n",
      "2               2.5  2016-12-19T19:26:30Z  Business Finance  \n",
      "3               3.0  2017-05-30T20:07:24Z  Business Finance  \n",
      "4               2.0  2016-12-13T14:57:18Z  Business Finance  \n"
     ]
    }
   ],
   "source": [
    "df=pd.read_csv(\"udemy_courses.csv\" )\n",
    "print(df.head())"
   ]
  },
  {
   "cell_type": "code",
   "execution_count": 6,
   "id": "de44fc2c",
   "metadata": {},
   "outputs": [
    {
     "data": {
      "text/plain": [
       "Index(['course_id', 'course_title', 'url', 'is_paid', 'price',\n",
       "       'num_subscribers', 'num_reviews', 'num_lectures', 'level',\n",
       "       'content_duration', 'published_timestamp', 'subject'],\n",
       "      dtype='object')"
      ]
     },
     "execution_count": 6,
     "metadata": {},
     "output_type": "execute_result"
    }
   ],
   "source": [
    "df.shape\n",
    "df.columns"
   ]
  },
  {
   "cell_type": "code",
   "execution_count": 7,
   "id": "8641701b",
   "metadata": {},
   "outputs": [
    {
     "name": "stdout",
     "output_type": "stream",
     "text": [
      "                                        course_title           subject\n",
      "0                 Ultimate Investment Banking Course  Business Finance\n",
      "1  Complete GST Course & Certification - Grow You...  Business Finance\n",
      "2  Financial Modeling for Business Analysts and C...  Business Finance\n",
      "3  Beginner to Pro - Financial Analysis in Excel ...  Business Finance\n",
      "4       How To Maximize Your Profits Trading Options  Business Finance\n"
     ]
    }
   ],
   "source": [
    "df2=df[['course_title', 'subject']]\n",
    "df2.shape\n",
    "print(df2.head())"
   ]
  },
  {
   "cell_type": "code",
   "execution_count": 8,
   "id": "a58f27da",
   "metadata": {},
   "outputs": [
    {
     "data": {
      "text/plain": [
       "['BTC_ADDRESS_REGEX',\n",
       " 'CURRENCY_REGEX',\n",
       " 'CURRENCY_SYMB_REGEX',\n",
       " 'Counter',\n",
       " 'DATE_REGEX',\n",
       " 'EMAIL_REGEX',\n",
       " 'EMOJI_REGEX',\n",
       " 'HASTAG_REGEX',\n",
       " 'MASTERCard_REGEX',\n",
       " 'MD5_SHA_REGEX',\n",
       " 'MOST_COMMON_PUNCT_REGEX',\n",
       " 'NUMBERS_REGEX',\n",
       " 'PHONE_REGEX',\n",
       " 'PoBOX_REGEX',\n",
       " 'SPECIAL_CHARACTERS_REGEX',\n",
       " 'STOPWORDS',\n",
       " 'STOPWORDS_de',\n",
       " 'STOPWORDS_en',\n",
       " 'STOPWORDS_es',\n",
       " 'STOPWORDS_fr',\n",
       " 'STOPWORDS_ru',\n",
       " 'STOPWORDS_yo',\n",
       " 'STREET_ADDRESS_REGEX',\n",
       " 'TextFrame',\n",
       " 'URL_PATTERN',\n",
       " 'USER_HANDLES_REGEX',\n",
       " 'VISACard_REGEX',\n",
       " '__builtins__',\n",
       " '__cached__',\n",
       " '__doc__',\n",
       " '__file__',\n",
       " '__generate_text',\n",
       " '__loader__',\n",
       " '__name__',\n",
       " '__numbers_dict',\n",
       " '__package__',\n",
       " '__spec__',\n",
       " '_lex_richness_herdan',\n",
       " '_lex_richness_maas_ttr',\n",
       " 'clean_text',\n",
       " 'defaultdict',\n",
       " 'digit2words',\n",
       " 'extract_btc_address',\n",
       " 'extract_currencies',\n",
       " 'extract_currency_symbols',\n",
       " 'extract_dates',\n",
       " 'extract_emails',\n",
       " 'extract_emojis',\n",
       " 'extract_hashtags',\n",
       " 'extract_html_tags',\n",
       " 'extract_mastercard_addr',\n",
       " 'extract_md5sha',\n",
       " 'extract_numbers',\n",
       " 'extract_pattern',\n",
       " 'extract_phone_numbers',\n",
       " 'extract_postoffice_box',\n",
       " 'extract_shortwords',\n",
       " 'extract_special_characters',\n",
       " 'extract_stopwords',\n",
       " 'extract_street_address',\n",
       " 'extract_terms_in_bracket',\n",
       " 'extract_urls',\n",
       " 'extract_userhandles',\n",
       " 'extract_visacard_addr',\n",
       " 'fix_contractions',\n",
       " 'generate_sentence',\n",
       " 'hamming_distance',\n",
       " 'inverse_df',\n",
       " 'lexical_richness',\n",
       " 'markov_chain',\n",
       " 'math',\n",
       " 'nlargest',\n",
       " 'normalize',\n",
       " 'num2words',\n",
       " 'random',\n",
       " 're',\n",
       " 'read_txt',\n",
       " 'remove_accents',\n",
       " 'remove_bad_quotes',\n",
       " 'remove_btc_address',\n",
       " 'remove_currencies',\n",
       " 'remove_currency_symbols',\n",
       " 'remove_custom_pattern',\n",
       " 'remove_custom_words',\n",
       " 'remove_dates',\n",
       " 'remove_emails',\n",
       " 'remove_emojis',\n",
       " 'remove_hashtags',\n",
       " 'remove_html_tags',\n",
       " 'remove_mastercard_addr',\n",
       " 'remove_md5sha',\n",
       " 'remove_multiple_spaces',\n",
       " 'remove_non_ascii',\n",
       " 'remove_numbers',\n",
       " 'remove_phone_numbers',\n",
       " 'remove_postoffice_box',\n",
       " 'remove_puncts',\n",
       " 'remove_punctuations',\n",
       " 'remove_shortwords',\n",
       " 'remove_special_characters',\n",
       " 'remove_stopwords',\n",
       " 'remove_street_address',\n",
       " 'remove_terms_in_bracket',\n",
       " 'remove_urls',\n",
       " 'remove_userhandles',\n",
       " 'remove_visacard_addr',\n",
       " 'replace_bad_quotes',\n",
       " 'replace_currencies',\n",
       " 'replace_currency_symbols',\n",
       " 'replace_dates',\n",
       " 'replace_emails',\n",
       " 'replace_emojis',\n",
       " 'replace_numbers',\n",
       " 'replace_phone_numbers',\n",
       " 'replace_special_characters',\n",
       " 'replace_term',\n",
       " 'replace_urls',\n",
       " 'string',\n",
       " 'term_freq',\n",
       " 'to_txt',\n",
       " 'unicodedata',\n",
       " 'word_freq',\n",
       " 'word_length_freq']"
      ]
     },
     "execution_count": 8,
     "metadata": {},
     "output_type": "execute_result"
    }
   ],
   "source": [
    "## Text pre-processing- Remove noise- lower case, remove punct, remove stopwords\n",
    "########## normalize, then Lammatize and Stemming @@@@@@@@@@@@@@@@@@@@@\n",
    "dir(nfx)"
   ]
  },
  {
   "cell_type": "code",
   "execution_count": 9,
   "id": "6bb9b75b",
   "metadata": {},
   "outputs": [],
   "source": [
    "df['course_title_clean']=df['course_title'].apply(nfx.remove_stopwords)\n",
    "df['course_title_clean']=df['course_title_clean'].apply(nfx.remove_special_characters)\n",
    "df['course_title_clean']=df['course_title_clean'].str.lower()\n"
   ]
  },
  {
   "cell_type": "code",
   "execution_count": 10,
   "id": "61c95426",
   "metadata": {},
   "outputs": [
    {
     "name": "stdout",
     "output_type": "stream",
     "text": [
      "0                   Ultimate Investment Banking Course\n",
      "1    Complete GST Course & Certification - Grow You...\n",
      "2    Financial Modeling for Business Analysts and C...\n",
      "3    Beginner to Pro - Financial Analysis in Excel ...\n",
      "4         How To Maximize Your Profits Trading Options\n",
      "Name: course_title, dtype: object 0                   ultimate investment banking course\n",
      "1    complete gst course  certification  grow practice\n",
      "2     financial modeling business analysts consultants\n",
      "3          beginner pro  financial analysis excel 2017\n",
      "4                     maximize profits trading options\n",
      "Name: course_title_clean, dtype: object\n"
     ]
    }
   ],
   "source": [
    "print(df['course_title'].head(), df['course_title_clean'].head())"
   ]
  },
  {
   "cell_type": "code",
   "execution_count": 11,
   "id": "15231c16",
   "metadata": {},
   "outputs": [],
   "source": [
    "### convert word to vectors\n",
    "## tfidf\n",
    "## Counts\n",
    "## HashVec"
   ]
  },
  {
   "cell_type": "code",
   "execution_count": 13,
   "id": "97736c80",
   "metadata": {},
   "outputs": [
    {
     "name": "stdout",
     "output_type": "stream",
     "text": [
      "0                   ultimate investment banking course\n",
      "1    complete gst course  certification  grow practice\n",
      "2     financial modeling business analysts consultants\n",
      "3          beginner pro  financial analysis excel 2017\n",
      "4                     maximize profits trading options\n",
      "Name: course_title_clean, dtype: object 0    Business Finance\n",
      "1    Business Finance\n",
      "2    Business Finance\n",
      "3    Business Finance\n",
      "4    Business Finance\n",
      "Name: subject, dtype: object\n"
     ]
    }
   ],
   "source": [
    "from sklearn.feature_extraction.text import TfidfVectorizer\n",
    "xfeatures = df['course_title_clean']\n",
    "ylabel = df['subject']\n",
    "print(xfeatures.head(),ylabel.head())"
   ]
  },
  {
   "cell_type": "code",
   "execution_count": 26,
   "id": "7866f7dc",
   "metadata": {},
   "outputs": [
    {
     "data": {
      "text/plain": [
       "matrix([[0., 0., 0., ..., 0., 0., 0.],\n",
       "        [0., 0., 0., ..., 0., 0., 0.],\n",
       "        [0., 0., 0., ..., 0., 0., 0.],\n",
       "        ...,\n",
       "        [0., 0., 0., ..., 0., 0., 0.],\n",
       "        [0., 0., 0., ..., 0., 0., 0.],\n",
       "        [0., 0., 0., ..., 0., 0., 0.]])"
      ]
     },
     "execution_count": 26,
     "metadata": {},
     "output_type": "execute_result"
    }
   ],
   "source": [
    "tfidf_vec= TfidfVectorizer()\n",
    "X= tfidf_vec.fit_transform(xfeatures)\n",
    "X.todense()"
   ]
  },
  {
   "cell_type": "code",
   "execution_count": 27,
   "id": "ea33e6b8",
   "metadata": {},
   "outputs": [
    {
     "name": "stdout",
     "output_type": "stream",
     "text": [
      "  (0, 791)\t0.33271496133381573\n",
      "  (0, 355)\t0.595449455256723\n",
      "  (0, 1755)\t0.5405136879533768\n",
      "  (0, 3312)\t0.492529850744246\n",
      "  (1, 2471)\t0.45191863761959283\n",
      "  (1, 1492)\t0.47015026234232893\n",
      "  (1, 585)\t0.4377770908343263\n",
      "  (1, 1499)\t0.514077918890026\n",
      "  (1, 708)\t0.2518462228271275\n",
      "  (1, 791)\t0.23532290132822398\n",
      "  (2, 749)\t0.5935673817884735\n",
      "  (2, 210)\t0.5170050534970209\n",
      "  (2, 515)\t0.3478151951940593\n",
      "  (2, 2133)\t0.4148159725947916\n",
      "  (2, 1293)\t0.2955263724402185\n",
      "  (3, 46)\t0.4435520884155543\n",
      "  (3, 1196)\t0.476414116325187\n",
      "  (3, 208)\t0.38834472378420776\n",
      "  (3, 2517)\t0.4278161835552039\n",
      "  (3, 392)\t0.3526049592611984\n",
      "  (3, 1293)\t0.3436896360525402\n",
      "  (4, 2288)\t0.3834782050597191\n",
      "  (4, 3242)\t0.288387841649422\n",
      "  (4, 2542)\t0.5397106396753576\n",
      "  (4, 2056)\t0.6917292421563369\n",
      "  :\t:\n",
      "  (3673, 1927)\t0.610764105680868\n",
      "  (3673, 1805)\t0.42259165894604106\n",
      "  (3673, 1785)\t0.34533884354744004\n",
      "  (3673, 2822)\t0.3609399716126845\n",
      "  (3673, 2039)\t0.375877649510487\n",
      "  (3673, 1880)\t0.23992271595058562\n",
      "  (3674, 3504)\t0.46950659063980393\n",
      "  (3674, 929)\t0.4318345049746808\n",
      "  (3674, 3464)\t0.4752793654856473\n",
      "  (3674, 670)\t0.6059637335704343\n",
      "  (3675, 2443)\t0.8605216762334654\n",
      "  (3675, 507)\t0.4104864162157917\n",
      "  (3675, 1880)\t0.3016676098533991\n",
      "  (3676, 225)\t0.5008378497836218\n",
      "  (3676, 843)\t0.3210359427284422\n",
      "  (3676, 1078)\t0.5240353656217925\n",
      "  (3676, 203)\t0.44829337804414393\n",
      "  (3676, 3464)\t0.29994373026538335\n",
      "  (3676, 812)\t0.2838152799876536\n",
      "  (3677, 2141)\t0.6120753511719684\n",
      "  (3677, 661)\t0.4895669827910262\n",
      "  (3677, 3465)\t0.37261302854976647\n",
      "  (3677, 507)\t0.2919724445017211\n",
      "  (3677, 394)\t0.25199590176447034\n",
      "  (3677, 1505)\t0.31320539897832933\n"
     ]
    }
   ],
   "source": [
    "print(X)"
   ]
  },
  {
   "cell_type": "code",
   "execution_count": null,
   "id": "7add5a88",
   "metadata": {},
   "outputs": [],
   "source": [
    "X.todense()\n",
    "vec_df= pd.DataFrame(X.todense().columns=tfidf_vec.get_feature_names())\n",
    "print(vec_df)"
   ]
  },
  {
   "cell_type": "code",
   "execution_count": null,
   "id": "0031fd71",
   "metadata": {},
   "outputs": [],
   "source": []
  }
 ],
 "metadata": {
  "kernelspec": {
   "display_name": "Python 3 (ipykernel)",
   "language": "python",
   "name": "python3"
  },
  "language_info": {
   "codemirror_mode": {
    "name": "ipython",
    "version": 3
   },
   "file_extension": ".py",
   "mimetype": "text/x-python",
   "name": "python",
   "nbconvert_exporter": "python",
   "pygments_lexer": "ipython3",
   "version": "3.10.12"
  }
 },
 "nbformat": 4,
 "nbformat_minor": 5
}
