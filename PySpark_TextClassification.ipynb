{
 "cells": [
  {
   "cell_type": "code",
   "execution_count": 4,
   "id": "2df97c99",
   "metadata": {},
   "outputs": [],
   "source": [
    "import numpy as np\n",
    "import pandas as pd\n",
    "import os, sys, datetime\n",
    "######### Pysaprk\n",
    "from pyspark import SparkContext\n",
    "from pyspark.sql import SparkSession\n",
    "#!pip install neattext\n",
    "import neattext.functions as nfx\n",
    "import seaborn as sns\n",
    "from sklearn.linear_model import LogisticRegression\n",
    "from sklearn.naive_bayes import MultinomialNB\n"
   ]
  },
  {
   "cell_type": "code",
   "execution_count": 5,
   "id": "17a024c1",
   "metadata": {},
   "outputs": [
    {
     "name": "stderr",
     "output_type": "stream",
     "text": [
      "23/08/22 10:03:11 WARN Utils: Your hostname, SailhOsman resolves to a loopback address: 127.0.1.1; using 172.22.57.122 instead (on interface eth0)\n",
      "23/08/22 10:03:11 WARN Utils: Set SPARK_LOCAL_IP if you need to bind to another address\n",
      "Setting default log level to \"WARN\".\n",
      "To adjust logging level use sc.setLogLevel(newLevel). For SparkR, use setLogLevel(newLevel).\n",
      "23/08/22 10:03:13 WARN NativeCodeLoader: Unable to load native-hadoop library for your platform... using builtin-java classes where applicable\n",
      "23/08/22 10:03:14 WARN Utils: Service 'SparkUI' could not bind on port 4040. Attempting port 4041.\n",
      "23/08/22 10:03:14 WARN Utils: Service 'SparkUI' could not bind on port 4041. Attempting port 4042.\n"
     ]
    },
    {
     "name": "stdout",
     "output_type": "stream",
     "text": [
      "<SparkContext master=local[2] appName=pyspark-shell>\n"
     ]
    }
   ],
   "source": [
    "sc=SparkContext(master='local[2]')\n",
    "print(sc)"
   ]
  },
  {
   "cell_type": "code",
   "execution_count": 6,
   "id": "8f7b20fb",
   "metadata": {},
   "outputs": [
    {
     "data": {
      "text/html": [
       "\n",
       "        <div>\n",
       "            <p><b>SparkContext</b></p>\n",
       "\n",
       "            <p><a href=\"http://172.22.57.122:4042\">Spark UI</a></p>\n",
       "\n",
       "            <dl>\n",
       "              <dt>Version</dt>\n",
       "                <dd><code>v3.4.1</code></dd>\n",
       "              <dt>Master</dt>\n",
       "                <dd><code>local[2]</code></dd>\n",
       "              <dt>AppName</dt>\n",
       "                <dd><code>pyspark-shell</code></dd>\n",
       "            </dl>\n",
       "        </div>\n",
       "        "
      ],
      "text/plain": [
       "<SparkContext master=local[2] appName=pyspark-shell>"
      ]
     },
     "execution_count": 6,
     "metadata": {},
     "output_type": "execute_result"
    }
   ],
   "source": [
    "sc"
   ]
  },
  {
   "cell_type": "code",
   "execution_count": 7,
   "id": "52c7b84e",
   "metadata": {},
   "outputs": [
    {
     "name": "stdout",
     "output_type": "stream",
     "text": [
      "<pyspark.sql.session.SparkSession object at 0x7f50f4cc6380>\n"
     ]
    }
   ],
   "source": [
    "spark=SparkSession.builder.appName(\"Text Mining\").getOrCreate()\n",
    "print(spark)"
   ]
  },
  {
   "cell_type": "code",
   "execution_count": 8,
   "id": "26e3d76c",
   "metadata": {},
   "outputs": [
    {
     "name": "stdout",
     "output_type": "stream",
     "text": [
      "   course_id                                       course_title  \\\n",
      "0    1070968                 Ultimate Investment Banking Course   \n",
      "1    1113822  Complete GST Course & Certification - Grow You...   \n",
      "2    1006314  Financial Modeling for Business Analysts and C...   \n",
      "3    1210588  Beginner to Pro - Financial Analysis in Excel ...   \n",
      "4    1011058       How To Maximize Your Profits Trading Options   \n",
      "\n",
      "                                                 url  is_paid  price  \\\n",
      "0  https://www.udemy.com/ultimate-investment-bank...     True    200   \n",
      "1      https://www.udemy.com/goods-and-services-tax/     True     75   \n",
      "2  https://www.udemy.com/financial-modeling-for-b...     True     45   \n",
      "3  https://www.udemy.com/complete-excel-finance-c...     True     95   \n",
      "4  https://www.udemy.com/how-to-maximize-your-pro...     True    200   \n",
      "\n",
      "   num_subscribers  num_reviews  num_lectures               level  \\\n",
      "0             2147           23            51          All Levels   \n",
      "1             2792          923           274          All Levels   \n",
      "2             2174           74            51  Intermediate Level   \n",
      "3             2451           11            36          All Levels   \n",
      "4             1276           45            26  Intermediate Level   \n",
      "\n",
      "   content_duration   published_timestamp           subject  \n",
      "0               1.5  2017-01-18T20:58:58Z  Business Finance  \n",
      "1              39.0  2017-03-09T16:34:20Z  Business Finance  \n",
      "2               2.5  2016-12-19T19:26:30Z  Business Finance  \n",
      "3               3.0  2017-05-30T20:07:24Z  Business Finance  \n",
      "4               2.0  2016-12-13T14:57:18Z  Business Finance  \n"
     ]
    }
   ],
   "source": [
    "df=pd.read_csv(\"udemy_courses.csv\" )\n",
    "print(df.head())"
   ]
  },
  {
   "cell_type": "code",
   "execution_count": 9,
   "id": "de44fc2c",
   "metadata": {},
   "outputs": [
    {
     "data": {
      "text/plain": [
       "Index(['course_id', 'course_title', 'url', 'is_paid', 'price',\n",
       "       'num_subscribers', 'num_reviews', 'num_lectures', 'level',\n",
       "       'content_duration', 'published_timestamp', 'subject'],\n",
       "      dtype='object')"
      ]
     },
     "execution_count": 9,
     "metadata": {},
     "output_type": "execute_result"
    }
   ],
   "source": [
    "df.shape\n",
    "df.columns"
   ]
  },
  {
   "cell_type": "code",
   "execution_count": 10,
   "id": "8641701b",
   "metadata": {},
   "outputs": [
    {
     "name": "stdout",
     "output_type": "stream",
     "text": [
      "                                        course_title           subject\n",
      "0                 Ultimate Investment Banking Course  Business Finance\n",
      "1  Complete GST Course & Certification - Grow You...  Business Finance\n",
      "2  Financial Modeling for Business Analysts and C...  Business Finance\n",
      "3  Beginner to Pro - Financial Analysis in Excel ...  Business Finance\n",
      "4       How To Maximize Your Profits Trading Options  Business Finance\n"
     ]
    }
   ],
   "source": [
    "df2=df[['course_title', 'subject']]\n",
    "df2.shape\n",
    "print(df2.head())"
   ]
  },
  {
   "cell_type": "code",
   "execution_count": 11,
   "id": "a58f27da",
   "metadata": {},
   "outputs": [
    {
     "data": {
      "text/plain": [
       "['BTC_ADDRESS_REGEX',\n",
       " 'CURRENCY_REGEX',\n",
       " 'CURRENCY_SYMB_REGEX',\n",
       " 'Counter',\n",
       " 'DATE_REGEX',\n",
       " 'EMAIL_REGEX',\n",
       " 'EMOJI_REGEX',\n",
       " 'HASTAG_REGEX',\n",
       " 'MASTERCard_REGEX',\n",
       " 'MD5_SHA_REGEX',\n",
       " 'MOST_COMMON_PUNCT_REGEX',\n",
       " 'NUMBERS_REGEX',\n",
       " 'PHONE_REGEX',\n",
       " 'PoBOX_REGEX',\n",
       " 'SPECIAL_CHARACTERS_REGEX',\n",
       " 'STOPWORDS',\n",
       " 'STOPWORDS_de',\n",
       " 'STOPWORDS_en',\n",
       " 'STOPWORDS_es',\n",
       " 'STOPWORDS_fr',\n",
       " 'STOPWORDS_ru',\n",
       " 'STOPWORDS_yo',\n",
       " 'STREET_ADDRESS_REGEX',\n",
       " 'TextFrame',\n",
       " 'URL_PATTERN',\n",
       " 'USER_HANDLES_REGEX',\n",
       " 'VISACard_REGEX',\n",
       " '__builtins__',\n",
       " '__cached__',\n",
       " '__doc__',\n",
       " '__file__',\n",
       " '__generate_text',\n",
       " '__loader__',\n",
       " '__name__',\n",
       " '__numbers_dict',\n",
       " '__package__',\n",
       " '__spec__',\n",
       " '_lex_richness_herdan',\n",
       " '_lex_richness_maas_ttr',\n",
       " 'clean_text',\n",
       " 'defaultdict',\n",
       " 'digit2words',\n",
       " 'extract_btc_address',\n",
       " 'extract_currencies',\n",
       " 'extract_currency_symbols',\n",
       " 'extract_dates',\n",
       " 'extract_emails',\n",
       " 'extract_emojis',\n",
       " 'extract_hashtags',\n",
       " 'extract_html_tags',\n",
       " 'extract_mastercard_addr',\n",
       " 'extract_md5sha',\n",
       " 'extract_numbers',\n",
       " 'extract_pattern',\n",
       " 'extract_phone_numbers',\n",
       " 'extract_postoffice_box',\n",
       " 'extract_shortwords',\n",
       " 'extract_special_characters',\n",
       " 'extract_stopwords',\n",
       " 'extract_street_address',\n",
       " 'extract_terms_in_bracket',\n",
       " 'extract_urls',\n",
       " 'extract_userhandles',\n",
       " 'extract_visacard_addr',\n",
       " 'fix_contractions',\n",
       " 'generate_sentence',\n",
       " 'hamming_distance',\n",
       " 'inverse_df',\n",
       " 'lexical_richness',\n",
       " 'markov_chain',\n",
       " 'math',\n",
       " 'nlargest',\n",
       " 'normalize',\n",
       " 'num2words',\n",
       " 'random',\n",
       " 're',\n",
       " 'read_txt',\n",
       " 'remove_accents',\n",
       " 'remove_bad_quotes',\n",
       " 'remove_btc_address',\n",
       " 'remove_currencies',\n",
       " 'remove_currency_symbols',\n",
       " 'remove_custom_pattern',\n",
       " 'remove_custom_words',\n",
       " 'remove_dates',\n",
       " 'remove_emails',\n",
       " 'remove_emojis',\n",
       " 'remove_hashtags',\n",
       " 'remove_html_tags',\n",
       " 'remove_mastercard_addr',\n",
       " 'remove_md5sha',\n",
       " 'remove_multiple_spaces',\n",
       " 'remove_non_ascii',\n",
       " 'remove_numbers',\n",
       " 'remove_phone_numbers',\n",
       " 'remove_postoffice_box',\n",
       " 'remove_puncts',\n",
       " 'remove_punctuations',\n",
       " 'remove_shortwords',\n",
       " 'remove_special_characters',\n",
       " 'remove_stopwords',\n",
       " 'remove_street_address',\n",
       " 'remove_terms_in_bracket',\n",
       " 'remove_urls',\n",
       " 'remove_userhandles',\n",
       " 'remove_visacard_addr',\n",
       " 'replace_bad_quotes',\n",
       " 'replace_currencies',\n",
       " 'replace_currency_symbols',\n",
       " 'replace_dates',\n",
       " 'replace_emails',\n",
       " 'replace_emojis',\n",
       " 'replace_numbers',\n",
       " 'replace_phone_numbers',\n",
       " 'replace_special_characters',\n",
       " 'replace_term',\n",
       " 'replace_urls',\n",
       " 'string',\n",
       " 'term_freq',\n",
       " 'to_txt',\n",
       " 'unicodedata',\n",
       " 'word_freq',\n",
       " 'word_length_freq']"
      ]
     },
     "execution_count": 11,
     "metadata": {},
     "output_type": "execute_result"
    }
   ],
   "source": [
    "## Text pre-processing- Remove noise- lower case, remove punct, remove stopwords\n",
    "########## normalize, then Lammatize and Stemming @@@@@@@@@@@@@@@@@@@@@\n",
    "dir(nfx)"
   ]
  },
  {
   "cell_type": "code",
   "execution_count": 12,
   "id": "6bb9b75b",
   "metadata": {},
   "outputs": [],
   "source": [
    "df['course_title_clean']=df['course_title'].apply(nfx.remove_stopwords)\n",
    "df['course_title_clean']=df['course_title_clean'].apply(nfx.remove_special_characters)\n",
    "df['course_title_clean']=df['course_title_clean'].str.lower()\n"
   ]
  },
  {
   "cell_type": "code",
   "execution_count": 13,
   "id": "61c95426",
   "metadata": {},
   "outputs": [
    {
     "name": "stdout",
     "output_type": "stream",
     "text": [
      "0                   Ultimate Investment Banking Course\n",
      "1    Complete GST Course & Certification - Grow You...\n",
      "2    Financial Modeling for Business Analysts and C...\n",
      "3    Beginner to Pro - Financial Analysis in Excel ...\n",
      "4         How To Maximize Your Profits Trading Options\n",
      "Name: course_title, dtype: object 0                   ultimate investment banking course\n",
      "1    complete gst course  certification  grow practice\n",
      "2     financial modeling business analysts consultants\n",
      "3          beginner pro  financial analysis excel 2017\n",
      "4                     maximize profits trading options\n",
      "Name: course_title_clean, dtype: object\n"
     ]
    }
   ],
   "source": [
    "print(df['course_title'].head(), df['course_title_clean'].head())"
   ]
  },
  {
   "cell_type": "code",
   "execution_count": 14,
   "id": "15231c16",
   "metadata": {},
   "outputs": [],
   "source": [
    "### convert word to vectors\n",
    "## tfidf\n",
    "## Counts\n",
    "## HashVec"
   ]
  },
  {
   "cell_type": "code",
   "execution_count": 15,
   "id": "97736c80",
   "metadata": {},
   "outputs": [
    {
     "name": "stdout",
     "output_type": "stream",
     "text": [
      "0                   ultimate investment banking course\n",
      "1    complete gst course  certification  grow practice\n",
      "2     financial modeling business analysts consultants\n",
      "3          beginner pro  financial analysis excel 2017\n",
      "4                     maximize profits trading options\n",
      "Name: course_title_clean, dtype: object 0    Business Finance\n",
      "1    Business Finance\n",
      "2    Business Finance\n",
      "3    Business Finance\n",
      "4    Business Finance\n",
      "Name: subject, dtype: object\n"
     ]
    }
   ],
   "source": [
    "from sklearn.feature_extraction.text import TfidfVectorizer\n",
    "xfeatures = df['course_title_clean']\n",
    "ylabel = df['subject']\n",
    "print(xfeatures.head(),ylabel.head())"
   ]
  },
  {
   "cell_type": "code",
   "execution_count": 16,
   "id": "7866f7dc",
   "metadata": {},
   "outputs": [
    {
     "data": {
      "text/plain": [
       "matrix([[0., 0., 0., ..., 0., 0., 0.],\n",
       "        [0., 0., 0., ..., 0., 0., 0.],\n",
       "        [0., 0., 0., ..., 0., 0., 0.],\n",
       "        ...,\n",
       "        [0., 0., 0., ..., 0., 0., 0.],\n",
       "        [0., 0., 0., ..., 0., 0., 0.],\n",
       "        [0., 0., 0., ..., 0., 0., 0.]])"
      ]
     },
     "execution_count": 16,
     "metadata": {},
     "output_type": "execute_result"
    }
   ],
   "source": [
    "tfidf_vec= TfidfVectorizer()\n",
    "X= tfidf_vec.fit_transform(xfeatures)\n",
    "X.todense()"
   ]
  },
  {
   "cell_type": "code",
   "execution_count": 17,
   "id": "ea33e6b8",
   "metadata": {},
   "outputs": [
    {
     "name": "stdout",
     "output_type": "stream",
     "text": [
      "  (0, 791)\t0.33271496133381573\n",
      "  (0, 355)\t0.595449455256723\n",
      "  (0, 1755)\t0.5405136879533768\n",
      "  (0, 3312)\t0.492529850744246\n",
      "  (1, 2471)\t0.45191863761959283\n",
      "  (1, 1492)\t0.47015026234232893\n",
      "  (1, 585)\t0.4377770908343263\n",
      "  (1, 1499)\t0.514077918890026\n",
      "  (1, 708)\t0.2518462228271275\n",
      "  (1, 791)\t0.23532290132822398\n",
      "  (2, 749)\t0.5935673817884735\n",
      "  (2, 210)\t0.5170050534970209\n",
      "  (2, 515)\t0.3478151951940593\n",
      "  (2, 2133)\t0.4148159725947916\n",
      "  (2, 1293)\t0.2955263724402185\n",
      "  (3, 46)\t0.4435520884155543\n",
      "  (3, 1196)\t0.476414116325187\n",
      "  (3, 208)\t0.38834472378420776\n",
      "  (3, 2517)\t0.4278161835552039\n",
      "  (3, 392)\t0.3526049592611984\n",
      "  (3, 1293)\t0.3436896360525402\n",
      "  (4, 2288)\t0.3834782050597191\n",
      "  (4, 3242)\t0.288387841649422\n",
      "  (4, 2542)\t0.5397106396753576\n",
      "  (4, 2056)\t0.6917292421563369\n",
      "  :\t:\n",
      "  (3673, 1927)\t0.610764105680868\n",
      "  (3673, 1805)\t0.42259165894604106\n",
      "  (3673, 1785)\t0.34533884354744004\n",
      "  (3673, 2822)\t0.3609399716126845\n",
      "  (3673, 2039)\t0.375877649510487\n",
      "  (3673, 1880)\t0.23992271595058562\n",
      "  (3674, 3504)\t0.46950659063980393\n",
      "  (3674, 929)\t0.4318345049746808\n",
      "  (3674, 3464)\t0.4752793654856473\n",
      "  (3674, 670)\t0.6059637335704343\n",
      "  (3675, 2443)\t0.8605216762334654\n",
      "  (3675, 507)\t0.4104864162157917\n",
      "  (3675, 1880)\t0.3016676098533991\n",
      "  (3676, 225)\t0.5008378497836218\n",
      "  (3676, 843)\t0.3210359427284422\n",
      "  (3676, 1078)\t0.5240353656217925\n",
      "  (3676, 203)\t0.44829337804414393\n",
      "  (3676, 3464)\t0.29994373026538335\n",
      "  (3676, 812)\t0.2838152799876536\n",
      "  (3677, 2141)\t0.6120753511719684\n",
      "  (3677, 661)\t0.4895669827910262\n",
      "  (3677, 3465)\t0.37261302854976647\n",
      "  (3677, 507)\t0.2919724445017211\n",
      "  (3677, 394)\t0.25199590176447034\n",
      "  (3677, 1505)\t0.31320539897832933\n"
     ]
    }
   ],
   "source": [
    "print(X)"
   ]
  },
  {
   "cell_type": "code",
   "execution_count": 18,
   "id": "7add5a88",
   "metadata": {},
   "outputs": [
    {
     "name": "stdout",
     "output_type": "stream",
     "text": [
      "TfidfVectorizer()\n",
      "      000005  001   01   02   10  100  101  101master  102  10k  ...  zend  \\\n",
      "0        0.0  0.0  0.0  0.0  0.0  0.0  0.0        0.0  0.0  0.0  ...   0.0   \n",
      "1        0.0  0.0  0.0  0.0  0.0  0.0  0.0        0.0  0.0  0.0  ...   0.0   \n",
      "2        0.0  0.0  0.0  0.0  0.0  0.0  0.0        0.0  0.0  0.0  ...   0.0   \n",
      "3        0.0  0.0  0.0  0.0  0.0  0.0  0.0        0.0  0.0  0.0  ...   0.0   \n",
      "4        0.0  0.0  0.0  0.0  0.0  0.0  0.0        0.0  0.0  0.0  ...   0.0   \n",
      "...      ...  ...  ...  ...  ...  ...  ...        ...  ...  ...  ...   ...   \n",
      "3673     0.0  0.0  0.0  0.0  0.0  0.0  0.0        0.0  0.0  0.0  ...   0.0   \n",
      "3674     0.0  0.0  0.0  0.0  0.0  0.0  0.0        0.0  0.0  0.0  ...   0.0   \n",
      "3675     0.0  0.0  0.0  0.0  0.0  0.0  0.0        0.0  0.0  0.0  ...   0.0   \n",
      "3676     0.0  0.0  0.0  0.0  0.0  0.0  0.0        0.0  0.0  0.0  ...   0.0   \n",
      "3677     0.0  0.0  0.0  0.0  0.0  0.0  0.0        0.0  0.0  0.0  ...   0.0   \n",
      "\n",
      "      zero  zerotohero  zf2  zinsen  zoho  zombie   zu  zuhause  zur  \n",
      "0      0.0         0.0  0.0     0.0   0.0     0.0  0.0      0.0  0.0  \n",
      "1      0.0         0.0  0.0     0.0   0.0     0.0  0.0      0.0  0.0  \n",
      "2      0.0         0.0  0.0     0.0   0.0     0.0  0.0      0.0  0.0  \n",
      "3      0.0         0.0  0.0     0.0   0.0     0.0  0.0      0.0  0.0  \n",
      "4      0.0         0.0  0.0     0.0   0.0     0.0  0.0      0.0  0.0  \n",
      "...    ...         ...  ...     ...   ...     ...  ...      ...  ...  \n",
      "3673   0.0         0.0  0.0     0.0   0.0     0.0  0.0      0.0  0.0  \n",
      "3674   0.0         0.0  0.0     0.0   0.0     0.0  0.0      0.0  0.0  \n",
      "3675   0.0         0.0  0.0     0.0   0.0     0.0  0.0      0.0  0.0  \n",
      "3676   0.0         0.0  0.0     0.0   0.0     0.0  0.0      0.0  0.0  \n",
      "3677   0.0         0.0  0.0     0.0   0.0     0.0  0.0      0.0  0.0  \n",
      "\n",
      "[3678 rows x 3559 columns]\n"
     ]
    }
   ],
   "source": [
    "X.todense()\n",
    "print(tfidf_vec)\n",
    "####### Don't use get_feature_names use get_feature_names\n",
    "vec_df= pd.DataFrame(X.todense(), columns=tfidf_vec.get_feature_names_out())  \n",
    "print(vec_df)"
   ]
  },
  {
   "cell_type": "code",
   "execution_count": 19,
   "id": "7ffdbce8",
   "metadata": {},
   "outputs": [
    {
     "data": {
      "text/html": [
       "<div>\n",
       "<style scoped>\n",
       "    .dataframe tbody tr th:only-of-type {\n",
       "        vertical-align: middle;\n",
       "    }\n",
       "\n",
       "    .dataframe tbody tr th {\n",
       "        vertical-align: top;\n",
       "    }\n",
       "\n",
       "    .dataframe thead th {\n",
       "        text-align: right;\n",
       "    }\n",
       "</style>\n",
       "<table border=\"1\" class=\"dataframe\">\n",
       "  <thead>\n",
       "    <tr style=\"text-align: right;\">\n",
       "      <th></th>\n",
       "      <th>0</th>\n",
       "      <th>1</th>\n",
       "      <th>2</th>\n",
       "      <th>3</th>\n",
       "      <th>4</th>\n",
       "      <th>5</th>\n",
       "      <th>6</th>\n",
       "      <th>7</th>\n",
       "      <th>8</th>\n",
       "      <th>9</th>\n",
       "      <th>...</th>\n",
       "      <th>3668</th>\n",
       "      <th>3669</th>\n",
       "      <th>3670</th>\n",
       "      <th>3671</th>\n",
       "      <th>3672</th>\n",
       "      <th>3673</th>\n",
       "      <th>3674</th>\n",
       "      <th>3675</th>\n",
       "      <th>3676</th>\n",
       "      <th>3677</th>\n",
       "    </tr>\n",
       "  </thead>\n",
       "  <tbody>\n",
       "    <tr>\n",
       "      <th>000005</th>\n",
       "      <td>0.0</td>\n",
       "      <td>0.0</td>\n",
       "      <td>0.0</td>\n",
       "      <td>0.0</td>\n",
       "      <td>0.0</td>\n",
       "      <td>0.0</td>\n",
       "      <td>0.0</td>\n",
       "      <td>0.0</td>\n",
       "      <td>0.0</td>\n",
       "      <td>0.0</td>\n",
       "      <td>...</td>\n",
       "      <td>0.0</td>\n",
       "      <td>0.0</td>\n",
       "      <td>0.0</td>\n",
       "      <td>0.0</td>\n",
       "      <td>0.0</td>\n",
       "      <td>0.0</td>\n",
       "      <td>0.0</td>\n",
       "      <td>0.0</td>\n",
       "      <td>0.0</td>\n",
       "      <td>0.0</td>\n",
       "    </tr>\n",
       "    <tr>\n",
       "      <th>001</th>\n",
       "      <td>0.0</td>\n",
       "      <td>0.0</td>\n",
       "      <td>0.0</td>\n",
       "      <td>0.0</td>\n",
       "      <td>0.0</td>\n",
       "      <td>0.0</td>\n",
       "      <td>0.0</td>\n",
       "      <td>0.0</td>\n",
       "      <td>0.0</td>\n",
       "      <td>0.0</td>\n",
       "      <td>...</td>\n",
       "      <td>0.0</td>\n",
       "      <td>0.0</td>\n",
       "      <td>0.0</td>\n",
       "      <td>0.0</td>\n",
       "      <td>0.0</td>\n",
       "      <td>0.0</td>\n",
       "      <td>0.0</td>\n",
       "      <td>0.0</td>\n",
       "      <td>0.0</td>\n",
       "      <td>0.0</td>\n",
       "    </tr>\n",
       "    <tr>\n",
       "      <th>01</th>\n",
       "      <td>0.0</td>\n",
       "      <td>0.0</td>\n",
       "      <td>0.0</td>\n",
       "      <td>0.0</td>\n",
       "      <td>0.0</td>\n",
       "      <td>0.0</td>\n",
       "      <td>0.0</td>\n",
       "      <td>0.0</td>\n",
       "      <td>0.0</td>\n",
       "      <td>0.0</td>\n",
       "      <td>...</td>\n",
       "      <td>0.0</td>\n",
       "      <td>0.0</td>\n",
       "      <td>0.0</td>\n",
       "      <td>0.0</td>\n",
       "      <td>0.0</td>\n",
       "      <td>0.0</td>\n",
       "      <td>0.0</td>\n",
       "      <td>0.0</td>\n",
       "      <td>0.0</td>\n",
       "      <td>0.0</td>\n",
       "    </tr>\n",
       "    <tr>\n",
       "      <th>02</th>\n",
       "      <td>0.0</td>\n",
       "      <td>0.0</td>\n",
       "      <td>0.0</td>\n",
       "      <td>0.0</td>\n",
       "      <td>0.0</td>\n",
       "      <td>0.0</td>\n",
       "      <td>0.0</td>\n",
       "      <td>0.0</td>\n",
       "      <td>0.0</td>\n",
       "      <td>0.0</td>\n",
       "      <td>...</td>\n",
       "      <td>0.0</td>\n",
       "      <td>0.0</td>\n",
       "      <td>0.0</td>\n",
       "      <td>0.0</td>\n",
       "      <td>0.0</td>\n",
       "      <td>0.0</td>\n",
       "      <td>0.0</td>\n",
       "      <td>0.0</td>\n",
       "      <td>0.0</td>\n",
       "      <td>0.0</td>\n",
       "    </tr>\n",
       "    <tr>\n",
       "      <th>10</th>\n",
       "      <td>0.0</td>\n",
       "      <td>0.0</td>\n",
       "      <td>0.0</td>\n",
       "      <td>0.0</td>\n",
       "      <td>0.0</td>\n",
       "      <td>0.0</td>\n",
       "      <td>0.0</td>\n",
       "      <td>0.0</td>\n",
       "      <td>0.0</td>\n",
       "      <td>0.0</td>\n",
       "      <td>...</td>\n",
       "      <td>0.0</td>\n",
       "      <td>0.0</td>\n",
       "      <td>0.0</td>\n",
       "      <td>0.0</td>\n",
       "      <td>0.0</td>\n",
       "      <td>0.0</td>\n",
       "      <td>0.0</td>\n",
       "      <td>0.0</td>\n",
       "      <td>0.0</td>\n",
       "      <td>0.0</td>\n",
       "    </tr>\n",
       "    <tr>\n",
       "      <th>...</th>\n",
       "      <td>...</td>\n",
       "      <td>...</td>\n",
       "      <td>...</td>\n",
       "      <td>...</td>\n",
       "      <td>...</td>\n",
       "      <td>...</td>\n",
       "      <td>...</td>\n",
       "      <td>...</td>\n",
       "      <td>...</td>\n",
       "      <td>...</td>\n",
       "      <td>...</td>\n",
       "      <td>...</td>\n",
       "      <td>...</td>\n",
       "      <td>...</td>\n",
       "      <td>...</td>\n",
       "      <td>...</td>\n",
       "      <td>...</td>\n",
       "      <td>...</td>\n",
       "      <td>...</td>\n",
       "      <td>...</td>\n",
       "      <td>...</td>\n",
       "    </tr>\n",
       "    <tr>\n",
       "      <th>zoho</th>\n",
       "      <td>0.0</td>\n",
       "      <td>0.0</td>\n",
       "      <td>0.0</td>\n",
       "      <td>0.0</td>\n",
       "      <td>0.0</td>\n",
       "      <td>0.0</td>\n",
       "      <td>0.0</td>\n",
       "      <td>0.0</td>\n",
       "      <td>0.0</td>\n",
       "      <td>0.0</td>\n",
       "      <td>...</td>\n",
       "      <td>0.0</td>\n",
       "      <td>0.0</td>\n",
       "      <td>0.0</td>\n",
       "      <td>0.0</td>\n",
       "      <td>0.0</td>\n",
       "      <td>0.0</td>\n",
       "      <td>0.0</td>\n",
       "      <td>0.0</td>\n",
       "      <td>0.0</td>\n",
       "      <td>0.0</td>\n",
       "    </tr>\n",
       "    <tr>\n",
       "      <th>zombie</th>\n",
       "      <td>0.0</td>\n",
       "      <td>0.0</td>\n",
       "      <td>0.0</td>\n",
       "      <td>0.0</td>\n",
       "      <td>0.0</td>\n",
       "      <td>0.0</td>\n",
       "      <td>0.0</td>\n",
       "      <td>0.0</td>\n",
       "      <td>0.0</td>\n",
       "      <td>0.0</td>\n",
       "      <td>...</td>\n",
       "      <td>0.0</td>\n",
       "      <td>0.0</td>\n",
       "      <td>0.0</td>\n",
       "      <td>0.0</td>\n",
       "      <td>0.0</td>\n",
       "      <td>0.0</td>\n",
       "      <td>0.0</td>\n",
       "      <td>0.0</td>\n",
       "      <td>0.0</td>\n",
       "      <td>0.0</td>\n",
       "    </tr>\n",
       "    <tr>\n",
       "      <th>zu</th>\n",
       "      <td>0.0</td>\n",
       "      <td>0.0</td>\n",
       "      <td>0.0</td>\n",
       "      <td>0.0</td>\n",
       "      <td>0.0</td>\n",
       "      <td>0.0</td>\n",
       "      <td>0.0</td>\n",
       "      <td>0.0</td>\n",
       "      <td>0.0</td>\n",
       "      <td>0.0</td>\n",
       "      <td>...</td>\n",
       "      <td>0.0</td>\n",
       "      <td>0.0</td>\n",
       "      <td>0.0</td>\n",
       "      <td>0.0</td>\n",
       "      <td>0.0</td>\n",
       "      <td>0.0</td>\n",
       "      <td>0.0</td>\n",
       "      <td>0.0</td>\n",
       "      <td>0.0</td>\n",
       "      <td>0.0</td>\n",
       "    </tr>\n",
       "    <tr>\n",
       "      <th>zuhause</th>\n",
       "      <td>0.0</td>\n",
       "      <td>0.0</td>\n",
       "      <td>0.0</td>\n",
       "      <td>0.0</td>\n",
       "      <td>0.0</td>\n",
       "      <td>0.0</td>\n",
       "      <td>0.0</td>\n",
       "      <td>0.0</td>\n",
       "      <td>0.0</td>\n",
       "      <td>0.0</td>\n",
       "      <td>...</td>\n",
       "      <td>0.0</td>\n",
       "      <td>0.0</td>\n",
       "      <td>0.0</td>\n",
       "      <td>0.0</td>\n",
       "      <td>0.0</td>\n",
       "      <td>0.0</td>\n",
       "      <td>0.0</td>\n",
       "      <td>0.0</td>\n",
       "      <td>0.0</td>\n",
       "      <td>0.0</td>\n",
       "    </tr>\n",
       "    <tr>\n",
       "      <th>zur</th>\n",
       "      <td>0.0</td>\n",
       "      <td>0.0</td>\n",
       "      <td>0.0</td>\n",
       "      <td>0.0</td>\n",
       "      <td>0.0</td>\n",
       "      <td>0.0</td>\n",
       "      <td>0.0</td>\n",
       "      <td>0.0</td>\n",
       "      <td>0.0</td>\n",
       "      <td>0.0</td>\n",
       "      <td>...</td>\n",
       "      <td>0.0</td>\n",
       "      <td>0.0</td>\n",
       "      <td>0.0</td>\n",
       "      <td>0.0</td>\n",
       "      <td>0.0</td>\n",
       "      <td>0.0</td>\n",
       "      <td>0.0</td>\n",
       "      <td>0.0</td>\n",
       "      <td>0.0</td>\n",
       "      <td>0.0</td>\n",
       "    </tr>\n",
       "  </tbody>\n",
       "</table>\n",
       "<p>3559 rows × 3678 columns</p>\n",
       "</div>"
      ],
      "text/plain": [
       "         0     1     2     3     4     5     6     7     8     9     ...  \\\n",
       "000005    0.0   0.0   0.0   0.0   0.0   0.0   0.0   0.0   0.0   0.0  ...   \n",
       "001       0.0   0.0   0.0   0.0   0.0   0.0   0.0   0.0   0.0   0.0  ...   \n",
       "01        0.0   0.0   0.0   0.0   0.0   0.0   0.0   0.0   0.0   0.0  ...   \n",
       "02        0.0   0.0   0.0   0.0   0.0   0.0   0.0   0.0   0.0   0.0  ...   \n",
       "10        0.0   0.0   0.0   0.0   0.0   0.0   0.0   0.0   0.0   0.0  ...   \n",
       "...       ...   ...   ...   ...   ...   ...   ...   ...   ...   ...  ...   \n",
       "zoho      0.0   0.0   0.0   0.0   0.0   0.0   0.0   0.0   0.0   0.0  ...   \n",
       "zombie    0.0   0.0   0.0   0.0   0.0   0.0   0.0   0.0   0.0   0.0  ...   \n",
       "zu        0.0   0.0   0.0   0.0   0.0   0.0   0.0   0.0   0.0   0.0  ...   \n",
       "zuhause   0.0   0.0   0.0   0.0   0.0   0.0   0.0   0.0   0.0   0.0  ...   \n",
       "zur       0.0   0.0   0.0   0.0   0.0   0.0   0.0   0.0   0.0   0.0  ...   \n",
       "\n",
       "         3668  3669  3670  3671  3672  3673  3674  3675  3676  3677  \n",
       "000005    0.0   0.0   0.0   0.0   0.0   0.0   0.0   0.0   0.0   0.0  \n",
       "001       0.0   0.0   0.0   0.0   0.0   0.0   0.0   0.0   0.0   0.0  \n",
       "01        0.0   0.0   0.0   0.0   0.0   0.0   0.0   0.0   0.0   0.0  \n",
       "02        0.0   0.0   0.0   0.0   0.0   0.0   0.0   0.0   0.0   0.0  \n",
       "10        0.0   0.0   0.0   0.0   0.0   0.0   0.0   0.0   0.0   0.0  \n",
       "...       ...   ...   ...   ...   ...   ...   ...   ...   ...   ...  \n",
       "zoho      0.0   0.0   0.0   0.0   0.0   0.0   0.0   0.0   0.0   0.0  \n",
       "zombie    0.0   0.0   0.0   0.0   0.0   0.0   0.0   0.0   0.0   0.0  \n",
       "zu        0.0   0.0   0.0   0.0   0.0   0.0   0.0   0.0   0.0   0.0  \n",
       "zuhause   0.0   0.0   0.0   0.0   0.0   0.0   0.0   0.0   0.0   0.0  \n",
       "zur       0.0   0.0   0.0   0.0   0.0   0.0   0.0   0.0   0.0   0.0  \n",
       "\n",
       "[3559 rows x 3678 columns]"
      ]
     },
     "execution_count": 19,
     "metadata": {},
     "output_type": "execute_result"
    }
   ],
   "source": [
    "import sklearn \n",
    "###### Transpose it\n",
    "vec_df.T\n",
    "#sklearn.__version__"
   ]
  },
  {
   "cell_type": "code",
   "execution_count": 20,
   "id": "de4e9fc8",
   "metadata": {},
   "outputs": [
    {
     "name": "stdout",
     "output_type": "stream",
     "text": [
      "(2574, 3559) (1104, 3559) (2574,) (1104,)\n"
     ]
    }
   ],
   "source": [
    "####### Splitting\n",
    "from sklearn.model_selection import train_test_split\n",
    "x_train, x_test, y_train, y_test= train_test_split(X, ylabel, test_size=0.3, random_state=42)\n",
    "print(x_train.shape, x_test.shape, y_train.shape, y_test.shape)"
   ]
  },
  {
   "cell_type": "code",
   "execution_count": 21,
   "id": "dcdbf683",
   "metadata": {},
   "outputs": [
    {
     "name": "stdout",
     "output_type": "stream",
     "text": [
      "  (0, 1247)\t0.7174300624986424\n",
      "  (0, 929)\t0.3329631319662236\n",
      "  (0, 2020)\t0.6119065763451454\n",
      "  (1, 699)\t0.6658956341747252\n",
      "  (1, 3029)\t0.5099278294970162\n",
      "  (1, 208)\t0.4078009245892789\n",
      "  (1, 1293)\t0.3609086019972811\n",
      "  (2, 1060)\t0.48757486059893923\n",
      "  (2, 946)\t0.3968654127687806\n",
      "  (2, 79)\t0.5925674805897583\n",
      "  (2, 3454)\t0.2897590881656069\n",
      "  (2, 708)\t0.3009720623350433\n",
      "  (2, 791)\t0.2812256548157073\n",
      "  (3, 1164)\t0.4377456972176608\n",
      "  (3, 879)\t0.49454582987141166\n",
      "  (3, 3240)\t0.5470573715397449\n",
      "  (3, 3037)\t0.4186667347944475\n",
      "  (3, 3242)\t0.29874658850738733\n",
      "  (4, 3264)\t0.844802925445317\n",
      "  (4, 3242)\t0.3698104610349222\n",
      "  (4, 791)\t0.38671467526869563\n",
      "  (5, 1948)\t0.4518354197443498\n",
      "  (5, 2027)\t0.4918640967115673\n",
      "  (5, 382)\t0.4518354197443498\n",
      "  (5, 1204)\t0.3883914677978294\n",
      "  :\t:\n",
      "  (2567, 1880)\t0.19702446650509559\n",
      "  (2568, 1196)\t1.0\n",
      "  (2569, 1367)\t0.40994468798401185\n",
      "  (2569, 1591)\t0.4038963324165059\n",
      "  (2569, 6)\t0.3687872068781568\n",
      "  (2569, 369)\t0.37228728156946156\n",
      "  (2569, 2288)\t0.6278624701945599\n",
      "  (2570, 323)\t0.40919774408695286\n",
      "  (2570, 1021)\t0.37065012837980377\n",
      "  (2570, 980)\t0.43671070111843696\n",
      "  (2570, 1022)\t0.3638502806722624\n",
      "  (2570, 1277)\t0.4523600685114586\n",
      "  (2570, 2835)\t0.40919774408695286\n",
      "  (2571, 518)\t0.6815109759372503\n",
      "  (2571, 2371)\t0.655083143491064\n",
      "  (2571, 3242)\t0.3262037167031099\n",
      "  (2572, 3455)\t0.5122904715653521\n",
      "  (2572, 1130)\t0.5122904715653521\n",
      "  (2572, 816)\t0.4218241118145094\n",
      "  (2572, 3454)\t0.2301180473671411\n",
      "  (2572, 1384)\t0.34743604309287385\n",
      "  (2572, 2592)\t0.3514473565336625\n",
      "  (2573, 1784)\t0.6395056166610269\n",
      "  (2573, 3454)\t0.3681746824496786\n",
      "  (2573, 2868)\t0.6748925614215034   (0, 3208)\t0.5327086010179334\n",
      "  (0, 352)\t0.4753994922164551\n",
      "  (0, 2569)\t0.5327086010179334\n",
      "  (0, 1036)\t0.45435494451295383\n",
      "  (1, 2462)\t0.5336228231326225\n",
      "  (1, 3363)\t0.43716180672105187\n",
      "  (1, 2935)\t0.45442108779578655\n",
      "  (1, 3300)\t0.5000188449435642\n",
      "  (1, 929)\t0.26003628024595654\n",
      "  (2, 1607)\t0.4431002607481825\n",
      "  (2, 2225)\t0.4431002607481825\n",
      "  (2, 828)\t0.4431002607481825\n",
      "  (2, 944)\t0.40704006176199836\n",
      "  (2, 3454)\t0.19903818722155417\n",
      "  (2, 3225)\t0.33491966378963006\n",
      "  (2, 2939)\t0.30580628464775766\n",
      "  (3, 3369)\t0.4881460305068178\n",
      "  (3, 548)\t0.5125458646063152\n",
      "  (3, 2394)\t0.27773531273757973\n",
      "  (3, 665)\t0.349582457105471\n",
      "  (3, 1470)\t0.33861082070674076\n",
      "  (3, 3148)\t0.3516225641826538\n",
      "  (3, 812)\t0.24772903700613103\n",
      "  (4, 814)\t0.42353891635169016\n",
      "  (4, 1644)\t0.4845889183229684\n",
      "  :\t:\n",
      "  (1099, 6)\t0.3801439987320387\n",
      "  (1099, 394)\t0.24032052124858463\n",
      "  (1100, 2650)\t0.49168558906073245\n",
      "  (1100, 2649)\t0.518558632758366\n",
      "  (1100, 252)\t0.3711170780711249\n",
      "  (1100, 1785)\t0.28484175163442954\n",
      "  (1100, 2136)\t0.39710048316675167\n",
      "  (1100, 509)\t0.3358433013479467\n",
      "  (1101, 551)\t0.48626649182189396\n",
      "  (1101, 2391)\t0.2872413818483328\n",
      "  (1101, 929)\t0.2782593791035518\n",
      "  (1101, 1046)\t0.48626649182189396\n",
      "  (1101, 2145)\t0.4936832099578052\n",
      "  (1101, 515)\t0.35132718733821267\n",
      "  (1102, 3301)\t0.4862970745425392\n",
      "  (1102, 1359)\t0.4690821922217429\n",
      "  (1102, 2969)\t0.5585082294813034\n",
      "  (1102, 371)\t0.3193818701793758\n",
      "  (1102, 507)\t0.2900223066489513\n",
      "  (1102, 1880)\t0.213138200424555\n",
      "  (1103, 3274)\t0.5038104935127079\n",
      "  (1103, 929)\t0.2620081383066889\n",
      "  (1103, 3511)\t0.4457822401350896\n",
      "  (1103, 1359)\t0.43556474826395236\n",
      "  (1103, 2)\t0.53766929104929\n",
      "  (0, 791)\t0.33271496133381573\n",
      "  (0, 355)\t0.595449455256723\n",
      "  (0, 1755)\t0.5405136879533768\n",
      "  (0, 3312)\t0.492529850744246\n",
      "  (1, 2471)\t0.45191863761959283\n",
      "  (1, 1492)\t0.47015026234232893\n",
      "  (1, 585)\t0.4377770908343263\n",
      "  (1, 1499)\t0.514077918890026\n",
      "  (1, 708)\t0.2518462228271275\n",
      "  (1, 791)\t0.23532290132822398\n",
      "  (2, 749)\t0.5935673817884735\n",
      "  (2, 210)\t0.5170050534970209\n",
      "  (2, 515)\t0.3478151951940593\n",
      "  (2, 2133)\t0.4148159725947916\n",
      "  (2, 1293)\t0.2955263724402185\n",
      "  (3, 46)\t0.4435520884155543\n",
      "  (3, 1196)\t0.476414116325187\n",
      "  (3, 208)\t0.38834472378420776\n",
      "  (3, 2517)\t0.4278161835552039\n",
      "  (3, 392)\t0.3526049592611984\n",
      "  (3, 1293)\t0.3436896360525402\n",
      "  (4, 2288)\t0.3834782050597191\n",
      "  (4, 3242)\t0.288387841649422\n",
      "  (4, 2542)\t0.5397106396753576\n",
      "  (4, 2056)\t0.6917292421563369\n",
      "  :\t:\n",
      "  (3673, 1927)\t0.610764105680868\n",
      "  (3673, 1805)\t0.42259165894604106\n",
      "  (3673, 1785)\t0.34533884354744004\n",
      "  (3673, 2822)\t0.3609399716126845\n",
      "  (3673, 2039)\t0.375877649510487\n",
      "  (3673, 1880)\t0.23992271595058562\n",
      "  (3674, 3504)\t0.46950659063980393\n",
      "  (3674, 929)\t0.4318345049746808\n",
      "  (3674, 3464)\t0.4752793654856473\n",
      "  (3674, 670)\t0.6059637335704343\n",
      "  (3675, 2443)\t0.8605216762334654\n",
      "  (3675, 507)\t0.4104864162157917\n",
      "  (3675, 1880)\t0.3016676098533991\n",
      "  (3676, 225)\t0.5008378497836218\n",
      "  (3676, 843)\t0.3210359427284422\n",
      "  (3676, 1078)\t0.5240353656217925\n",
      "  (3676, 203)\t0.44829337804414393\n",
      "  (3676, 3464)\t0.29994373026538335\n",
      "  (3676, 812)\t0.2838152799876536\n",
      "  (3677, 2141)\t0.6120753511719684\n",
      "  (3677, 661)\t0.4895669827910262\n",
      "  (3677, 3465)\t0.37261302854976647\n",
      "  (3677, 507)\t0.2919724445017211\n",
      "  (3677, 394)\t0.25199590176447034\n",
      "  (3677, 1505)\t0.31320539897832933 0       Business Finance\n",
      "1       Business Finance\n",
      "2       Business Finance\n",
      "3       Business Finance\n",
      "4       Business Finance\n",
      "              ...       \n",
      "3673     Web Development\n",
      "3674     Web Development\n",
      "3675     Web Development\n",
      "3676     Web Development\n",
      "3677     Web Development\n",
      "Name: subject, Length: 3678, dtype: object\n"
     ]
    }
   ],
   "source": [
    "print(x_train, x_test)\n",
    "print(X, ylabel )"
   ]
  },
  {
   "cell_type": "code",
   "execution_count": 22,
   "id": "4262ef8c",
   "metadata": {},
   "outputs": [],
   "source": [
    "#### model\n",
    "from sklearn.linear_model import LogisticRegression\n",
    "from sklearn.naive_bayes import MultinomialNB\n",
    "lr_model= LogisticRegression()\n",
    "lr_fit= lr_model.fit(x_train, y_train)"
   ]
  },
  {
   "cell_type": "code",
   "execution_count": 23,
   "id": "42fa4821",
   "metadata": {},
   "outputs": [
    {
     "data": {
      "text/plain": [
       "0.9402173913043478"
      ]
     },
     "execution_count": 23,
     "metadata": {},
     "output_type": "execute_result"
    }
   ],
   "source": [
    "lr_fit.score(x_test, y_test)"
   ]
  },
  {
   "cell_type": "code",
   "execution_count": 24,
   "id": "d62971fd",
   "metadata": {},
   "outputs": [],
   "source": [
    "#!pip install --upgrade scikit-learn\n",
    "from sklearn.metrics import classification_report, confusion_matrix \n",
    "from sklearn.metrics import ConfusionMatrixDisplay\n",
    "from sklearn.metrics import confusion_matrix, ConfusionMatrixDisplay\n",
    "#from sklearn.metrics import plot_confusion_matrix"
   ]
  },
  {
   "cell_type": "code",
   "execution_count": 25,
   "id": "82126653",
   "metadata": {},
   "outputs": [
    {
     "name": "stdout",
     "output_type": "stream",
     "text": [
      "[[383  18  19  10]\n",
      " [  1 139   0   1]\n",
      " [  0   1 167   0]\n",
      " [  2  10   4 349]]\n"
     ]
    }
   ],
   "source": [
    "y_pred= lr_fit.predict(x_test)\n",
    "y_pred\n",
    "cm= confusion_matrix(y_pred,y_test, labels=lr_fit.classes_)\n",
    "print(cm)"
   ]
  },
  {
   "cell_type": "code",
   "execution_count": 26,
   "id": "d1b4c184",
   "metadata": {},
   "outputs": [
    {
     "name": "stdout",
     "output_type": "stream",
     "text": [
      "                     precision    recall  f1-score   support\n",
      "\n",
      "   Business Finance       0.99      0.89      0.94       430\n",
      "     Graphic Design       0.83      0.99      0.90       141\n",
      "Musical Instruments       0.88      0.99      0.93       168\n",
      "    Web Development       0.97      0.96      0.96       365\n",
      "\n",
      "           accuracy                           0.94      1104\n",
      "          macro avg       0.92      0.96      0.93      1104\n",
      "       weighted avg       0.95      0.94      0.94      1104\n",
      "\n"
     ]
    }
   ],
   "source": [
    "print(classification_report(y_pred,y_test))"
   ]
  },
  {
   "cell_type": "code",
   "execution_count": 30,
   "id": "eb8c3698",
   "metadata": {},
   "outputs": [
    {
     "data": {
      "text/plain": [
       "<sklearn.metrics._plot.confusion_matrix.ConfusionMatrixDisplay at 0x7f50f4d4fcd0>"
      ]
     },
     "execution_count": 30,
     "metadata": {},
     "output_type": "execute_result"
    }
   ],
   "source": [
    "ConfusionMatrixDisplay(confusion_matrix, display_labels=None)"
   ]
  },
  {
   "cell_type": "code",
   "execution_count": 31,
   "id": "8fc000aa",
   "metadata": {},
   "outputs": [
    {
     "name": "stdout",
     "output_type": "stream",
     "text": [
      "['Business Finance' 'Graphic Design' 'Musical Instruments'\n",
      " 'Web Development']\n"
     ]
    },
    {
     "data": {
      "text/plain": [
       "4"
      ]
     },
     "execution_count": 31,
     "metadata": {},
     "output_type": "execute_result"
    }
   ],
   "source": [
    "lab=ylabel.unique()\n",
    "print(lab)\n",
    "len(lab)"
   ]
  },
  {
   "cell_type": "code",
   "execution_count": 32,
   "id": "a8be026f",
   "metadata": {},
   "outputs": [
    {
     "data": {
      "image/png": "[encoded data removed]",
      "text/plain": [
       "<Figure size 640x480 with 2 Axes>"
      ]
     },
     "metadata": {},
     "output_type": "display_data"
    }
   ],
   "source": [
    "import matplotlib.pyplot as plt\n",
    "disp = ConfusionMatrixDisplay(confusion_matrix=cm, display_labels=lr_fit.classes_)\n",
    "# , xticks_rotation=40\n",
    "disp.plot()\n",
    "tick_marks = np.arange(len(lab))\n",
    "plt.xticks(tick_marks, rotation=45)\n",
    "plt.yticks(tick_marks, rotation=45)\n",
    "plt.show()"
   ]
  },
  {
   "cell_type": "code",
   "execution_count": 70,
   "id": "9858d502",
   "metadata": {},
   "outputs": [
    {
     "data": {
      "text/plain": [
       "array([[0., 0., 0., ..., 0., 0., 0.]])"
      ]
     },
     "execution_count": 70,
     "metadata": {},
     "output_type": "execute_result"
    }
   ],
   "source": [
    "text =\"Will be playing my musical instruments\"\n",
    "def vect_test(text):\n",
    "    vec_app=tfidf_vec.transform([text])\n",
    "    return vec_app.toarray()\n",
    "vect_test(text)"
   ]
  },
  {
   "cell_type": "code",
   "execution_count": 71,
   "id": "77df58d0",
   "metadata": {},
   "outputs": [],
   "source": [
    "vect_test(text)\n",
    "sample1= vect_test(text)"
   ]
  },
  {
   "cell_type": "code",
   "execution_count": 72,
   "id": "0f5e7fa0",
   "metadata": {},
   "outputs": [
    {
     "name": "stdout",
     "output_type": "stream",
     "text": [
      "['Musical Instruments']\n",
      "[[0.32149054 0.15017373 0.34498102 0.18335471]]\n"
     ]
    }
   ],
   "source": [
    "pred1= lr_fit.predict(sample1)\n",
    "pred1\n",
    "pred2= lr_fit.predict_proba(sample1)\n",
    "print(pred1)\n",
    "print(pred2)"
   ]
  },
  {
   "cell_type": "code",
   "execution_count": 76,
   "id": "ecbd963f",
   "metadata": {},
   "outputs": [
    {
     "data": {
      "text/plain": [
       "array(['Business Finance', 'Graphic Design', 'Musical Instruments',\n",
       "       'Web Development'], dtype=object)"
      ]
     },
     "execution_count": 76,
     "metadata": {},
     "output_type": "execute_result"
    }
   ],
   "source": [
    "lr_fit.classes_"
   ]
  },
  {
   "cell_type": "code",
   "execution_count": 78,
   "id": "1ab89314",
   "metadata": {},
   "outputs": [
    {
     "name": "stdout",
     "output_type": "stream",
     "text": [
      "Collecting eli5\n",
      "  Downloading eli5-0.13.0.tar.gz (216 kB)\n",
      "\u001b[2K     \u001b[90m━━━━━━━━━━━━━━━━━━━━━━━━━━━━━━━━━━━━━━━\u001b[0m \u001b[32m216.2/216.2 kB\u001b[0m \u001b[31m4.9 MB/s\u001b[0m eta \u001b[36m0:00:00\u001b[0ma \u001b[36m0:00:01\u001b[0m\n",
      "\u001b[?25h  Preparing metadata (setup.py) ... \u001b[?25ldone\n",
      "\u001b[?25hRequirement already satisfied: attrs>17.1.0 in /usr/lib/python3/dist-packages (from eli5) (21.2.0)\n",
      "Collecting graphviz (from eli5)\n",
      "  Downloading graphviz-0.20.1-py3-none-any.whl (47 kB)\n",
      "\u001b[2K     \u001b[90m━━━━━━━━━━━━━━━━━━━━━━━━━━━━━━━━━━━━━━━━\u001b[0m \u001b[32m47.0/47.0 kB\u001b[0m \u001b[31m4.3 MB/s\u001b[0m eta \u001b[36m0:00:00\u001b[0m\n",
      "\u001b[?25hRequirement already satisfied: jinja2>=3.0.0 in /usr/lib/python3/dist-packages (from eli5) (3.0.3)\n",
      "Requirement already satisfied: numpy>=1.9.0 in /usr/local/lib/python3.10/dist-packages (from eli5) (1.23.5)\n",
      "Requirement already satisfied: scikit-learn>=0.20 in /usr/local/lib/python3.10/dist-packages (from eli5) (1.3.0)\n",
      "Requirement already satisfied: scipy in /usr/lib/python3/dist-packages (from eli5) (1.8.0)\n",
      "Requirement already satisfied: six in /usr/lib/python3/dist-packages (from eli5) (1.16.0)\n",
      "Requirement already satisfied: tabulate>=0.7.7 in /usr/local/lib/python3.10/dist-packages (from eli5) (0.9.0)\n",
      "Requirement already satisfied: joblib>=1.1.1 in /usr/local/lib/python3.10/dist-packages (from scikit-learn>=0.20->eli5) (1.2.0)\n",
      "Requirement already satisfied: threadpoolctl>=2.0.0 in /usr/local/lib/python3.10/dist-packages (from scikit-learn>=0.20->eli5) (3.1.0)\n",
      "Building wheels for collected packages: eli5\n",
      "  Building wheel for eli5 (setup.py) ... \u001b[?25ldone\n",
      "\u001b[?25h  Created wheel for eli5: filename=eli5-0.13.0-py2.py3-none-any.whl size=107747 sha256=6486c0fed95087cbbc53b32296c21a4631e54396986db3a1a3157620b16c610b\n",
      "  Stored in directory: /root/.cache/pip/wheels/b8/58/ef/2cf4c306898c2338d51540e0922c8e0d6028e07007085c0004\n",
      "Successfully built eli5\n",
      "Installing collected packages: graphviz, eli5\n",
      "Successfully installed eli5-0.13.0 graphviz-0.20.1\n",
      "\u001b[33mWARNING: Running pip as the 'root' user can result in broken permissions and conflicting behaviour with the system package manager. It is recommended to use a virtual environment instead: https://pip.pypa.io/warnings/venv\u001b[0m\u001b[33m\n",
      "\u001b[0m\n",
      "\u001b[1m[\u001b[0m\u001b[34;49mnotice\u001b[0m\u001b[1;39;49m]\u001b[0m\u001b[39;49m A new release of pip is available: \u001b[0m\u001b[31;49m23.1.2\u001b[0m\u001b[39;49m -> \u001b[0m\u001b[32;49m23.2.1\u001b[0m\n",
      "\u001b[1m[\u001b[0m\u001b[34;49mnotice\u001b[0m\u001b[1;39;49m]\u001b[0m\u001b[39;49m To update, run: \u001b[0m\u001b[32;49mpython3 -m pip install --upgrade pip\u001b[0m\n"
     ]
    },
    {
     "ename": "ImportError",
     "evalue": "cannot import name 'if_delegate_has_method' from 'sklearn.utils.metaestimators' (/usr/local/lib/python3.10/dist-packages/sklearn/utils/metaestimators.py)",
     "output_type": "error",
     "traceback": [
      "\u001b[0;31m---------------------------------------------------------------------------\u001b[0m",
      "\u001b[0;31mImportError\u001b[0m                               Traceback (most recent call last)",
      "Cell \u001b[0;32mIn[78], line 4\u001b[0m\n\u001b[1;32m      1\u001b[0m \u001b[38;5;66;03m### model intrepretation /explanation @@@@@@@@@@@@\u001b[39;00m\n\u001b[1;32m      2\u001b[0m \u001b[38;5;66;03m### ELI5, LIME, and Shapley values Methods @@@@@@@@@@@@@@@\u001b[39;00m\n\u001b[1;32m      3\u001b[0m get_ipython()\u001b[38;5;241m.\u001b[39msystem(\u001b[38;5;124m'\u001b[39m\u001b[38;5;124mpip install eli5\u001b[39m\u001b[38;5;124m'\u001b[39m)\n\u001b[0;32m----> 4\u001b[0m \u001b[38;5;28;01mimport\u001b[39;00m \u001b[38;5;21;01meli5\u001b[39;00m\n",
      "File \u001b[0;32m/usr/local/lib/python3.10/dist-packages/eli5/__init__.py:13\u001b[0m\n\u001b[1;32m      6\u001b[0m \u001b[38;5;28;01mfrom\u001b[39;00m \u001b[38;5;21;01m.\u001b[39;00m\u001b[38;5;21;01mformatters\u001b[39;00m \u001b[38;5;28;01mimport\u001b[39;00m (\n\u001b[1;32m      7\u001b[0m     format_as_html,\n\u001b[1;32m      8\u001b[0m     format_html_styles,\n\u001b[1;32m      9\u001b[0m     format_as_text,\n\u001b[1;32m     10\u001b[0m     format_as_dict,\n\u001b[1;32m     11\u001b[0m )\n\u001b[1;32m     12\u001b[0m \u001b[38;5;28;01mfrom\u001b[39;00m \u001b[38;5;21;01m.\u001b[39;00m\u001b[38;5;21;01mexplain\u001b[39;00m \u001b[38;5;28;01mimport\u001b[39;00m explain_weights, explain_prediction\n\u001b[0;32m---> 13\u001b[0m \u001b[38;5;28;01mfrom\u001b[39;00m \u001b[38;5;21;01m.\u001b[39;00m\u001b[38;5;21;01msklearn\u001b[39;00m \u001b[38;5;28;01mimport\u001b[39;00m explain_weights_sklearn, explain_prediction_sklearn\n\u001b[1;32m     14\u001b[0m \u001b[38;5;28;01mfrom\u001b[39;00m \u001b[38;5;21;01m.\u001b[39;00m\u001b[38;5;21;01mtransform\u001b[39;00m \u001b[38;5;28;01mimport\u001b[39;00m transform_feature_names\n\u001b[1;32m     17\u001b[0m \u001b[38;5;28;01mtry\u001b[39;00m:\n",
      "File \u001b[0;32m/usr/local/lib/python3.10/dist-packages/eli5/sklearn/__init__.py:3\u001b[0m\n\u001b[1;32m      1\u001b[0m \u001b[38;5;66;03m# -*- coding: utf-8 -*-\u001b[39;00m\n\u001b[1;32m      2\u001b[0m \u001b[38;5;28;01mfrom\u001b[39;00m \u001b[38;5;21;01m__future__\u001b[39;00m \u001b[38;5;28;01mimport\u001b[39;00m absolute_import\n\u001b[0;32m----> 3\u001b[0m \u001b[38;5;28;01mfrom\u001b[39;00m \u001b[38;5;21;01m.\u001b[39;00m\u001b[38;5;21;01mexplain_weights\u001b[39;00m \u001b[38;5;28;01mimport\u001b[39;00m (\n\u001b[1;32m      4\u001b[0m     explain_weights_sklearn,\n\u001b[1;32m      5\u001b[0m     explain_linear_classifier_weights,\n\u001b[1;32m      6\u001b[0m     explain_linear_regressor_weights,\n\u001b[1;32m      7\u001b[0m     explain_rf_feature_importance,\n\u001b[1;32m      8\u001b[0m     explain_decision_tree,\n\u001b[1;32m      9\u001b[0m )\n\u001b[1;32m     10\u001b[0m \u001b[38;5;28;01mfrom\u001b[39;00m \u001b[38;5;21;01m.\u001b[39;00m\u001b[38;5;21;01mexplain_prediction\u001b[39;00m \u001b[38;5;28;01mimport\u001b[39;00m (\n\u001b[1;32m     11\u001b[0m     explain_prediction_sklearn,\n\u001b[1;32m     12\u001b[0m     explain_prediction_linear_classifier,\n\u001b[1;32m     13\u001b[0m     explain_prediction_linear_regressor,\n\u001b[1;32m     14\u001b[0m )\n\u001b[1;32m     15\u001b[0m \u001b[38;5;28;01mfrom\u001b[39;00m \u001b[38;5;21;01m.\u001b[39;00m\u001b[38;5;21;01munhashing\u001b[39;00m \u001b[38;5;28;01mimport\u001b[39;00m (\n\u001b[1;32m     16\u001b[0m     InvertableHashingVectorizer,\n\u001b[1;32m     17\u001b[0m     FeatureUnhasher,\n\u001b[1;32m     18\u001b[0m     invert_hashing_and_fit,\n\u001b[1;32m     19\u001b[0m )\n",
      "File \u001b[0;32m/usr/local/lib/python3.10/dist-packages/eli5/sklearn/explain_weights.py:78\u001b[0m\n\u001b[1;32m     73\u001b[0m \u001b[38;5;28;01mfrom\u001b[39;00m \u001b[38;5;21;01meli5\u001b[39;00m\u001b[38;5;21;01m.\u001b[39;00m\u001b[38;5;21;01mtransform\u001b[39;00m \u001b[38;5;28;01mimport\u001b[39;00m transform_feature_names\n\u001b[1;32m     74\u001b[0m \u001b[38;5;28;01mfrom\u001b[39;00m \u001b[38;5;21;01meli5\u001b[39;00m\u001b[38;5;21;01m.\u001b[39;00m\u001b[38;5;21;01m_feature_importances\u001b[39;00m \u001b[38;5;28;01mimport\u001b[39;00m (\n\u001b[1;32m     75\u001b[0m     get_feature_importances_filtered,\n\u001b[1;32m     76\u001b[0m     get_feature_importance_explanation,\n\u001b[1;32m     77\u001b[0m )\n\u001b[0;32m---> 78\u001b[0m \u001b[38;5;28;01mfrom\u001b[39;00m \u001b[38;5;21;01m.\u001b[39;00m\u001b[38;5;21;01mpermutation_importance\u001b[39;00m \u001b[38;5;28;01mimport\u001b[39;00m PermutationImportance\n\u001b[1;32m     81\u001b[0m LINEAR_CAVEATS \u001b[38;5;241m=\u001b[39m \u001b[38;5;124m\"\"\"\u001b[39m\n\u001b[1;32m     82\u001b[0m \u001b[38;5;124mCaveats:\u001b[39m\n\u001b[1;32m     83\u001b[0m \u001b[38;5;124m1. Be careful with features which are not\u001b[39m\n\u001b[0;32m   (...)\u001b[0m\n\u001b[1;32m     90\u001b[0m \u001b[38;5;124m   classification result for most examples.\u001b[39m\n\u001b[1;32m     91\u001b[0m \u001b[38;5;124m\"\"\"\u001b[39m\u001b[38;5;241m.\u001b[39mlstrip()\n\u001b[1;32m     93\u001b[0m HASHING_CAVEATS \u001b[38;5;241m=\u001b[39m \u001b[38;5;124m\"\"\"\u001b[39m\n\u001b[1;32m     94\u001b[0m \u001b[38;5;124mFeature names are restored from their hashes; this is not 100\u001b[39m\u001b[38;5;124m%\u001b[39m\u001b[38;5;124m precise\u001b[39m\n\u001b[1;32m     95\u001b[0m \u001b[38;5;124mbecause collisions are possible. For known collisions possible feature names\u001b[39m\n\u001b[0;32m   (...)\u001b[0m\n\u001b[1;32m     99\u001b[0m \u001b[38;5;124mthe result is positive.\u001b[39m\n\u001b[1;32m    100\u001b[0m \u001b[38;5;124m\"\"\"\u001b[39m\u001b[38;5;241m.\u001b[39mlstrip()\n",
      "File \u001b[0;32m/usr/local/lib/python3.10/dist-packages/eli5/sklearn/permutation_importance.py:7\u001b[0m\n\u001b[1;32m      5\u001b[0m \u001b[38;5;28;01mimport\u001b[39;00m \u001b[38;5;21;01mnumpy\u001b[39;00m \u001b[38;5;28;01mas\u001b[39;00m \u001b[38;5;21;01mnp\u001b[39;00m\n\u001b[1;32m      6\u001b[0m \u001b[38;5;28;01mfrom\u001b[39;00m \u001b[38;5;21;01msklearn\u001b[39;00m\u001b[38;5;21;01m.\u001b[39;00m\u001b[38;5;21;01mmodel_selection\u001b[39;00m \u001b[38;5;28;01mimport\u001b[39;00m check_cv\n\u001b[0;32m----> 7\u001b[0m \u001b[38;5;28;01mfrom\u001b[39;00m \u001b[38;5;21;01msklearn\u001b[39;00m\u001b[38;5;21;01m.\u001b[39;00m\u001b[38;5;21;01mutils\u001b[39;00m\u001b[38;5;21;01m.\u001b[39;00m\u001b[38;5;21;01mmetaestimators\u001b[39;00m \u001b[38;5;28;01mimport\u001b[39;00m if_delegate_has_method\n\u001b[1;32m      8\u001b[0m \u001b[38;5;28;01mfrom\u001b[39;00m \u001b[38;5;21;01msklearn\u001b[39;00m\u001b[38;5;21;01m.\u001b[39;00m\u001b[38;5;21;01mutils\u001b[39;00m \u001b[38;5;28;01mimport\u001b[39;00m check_array, check_random_state\n\u001b[1;32m      9\u001b[0m \u001b[38;5;28;01mfrom\u001b[39;00m \u001b[38;5;21;01msklearn\u001b[39;00m\u001b[38;5;21;01m.\u001b[39;00m\u001b[38;5;21;01mbase\u001b[39;00m \u001b[38;5;28;01mimport\u001b[39;00m (\n\u001b[1;32m     10\u001b[0m     BaseEstimator,\n\u001b[1;32m     11\u001b[0m     MetaEstimatorMixin,\n\u001b[1;32m     12\u001b[0m     clone,\n\u001b[1;32m     13\u001b[0m     is_classifier\n\u001b[1;32m     14\u001b[0m )\n",
      "\u001b[0;31mImportError\u001b[0m: cannot import name 'if_delegate_has_method' from 'sklearn.utils.metaestimators' (/usr/local/lib/python3.10/dist-packages/sklearn/utils/metaestimators.py)"
     ]
    }
   ],
   "source": [
    "### model intrepretation /explanation @@@@@@@@@@@@\n",
    "### ELI5, LIME, and Shapley values Methods @@@@@@@@@@@@@@@\n",
    "!pip install eli5\n",
    "import eli5"
   ]
  },
  {
   "cell_type": "code",
   "execution_count": null,
   "id": "465f1f53",
   "metadata": {},
   "outputs": [],
   "source": []
  }
 ],
 "metadata": {
  "kernelspec": {
   "display_name": "Python 3 (ipykernel)",
   "language": "python",
   "name": "python3"
  },
  "language_info": {
   "codemirror_mode": {
    "name": "ipython",
    "version": 3
   },
   "file_extension": ".py",
   "mimetype": "text/x-python",
   "name": "python",
   "nbconvert_exporter": "python",
   "pygments_lexer": "ipython3",
   "version": "3.10.12"
  }
 },
 "nbformat": 4,
 "nbformat_minor": 5
}
